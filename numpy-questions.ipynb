{
 "cells": [
  {
   "cell_type": "markdown",
   "id": "b62f3cd7",
   "metadata": {},
   "source": [
    "Create a 4x4 matrix of random integers and extract the diagonal."
   ]
  },
  {
   "cell_type": "code",
   "execution_count": 9,
   "id": "7f36bceb",
   "metadata": {},
   "outputs": [
    {
     "name": "stdout",
     "output_type": "stream",
     "text": [
      "4x4 Random Integer Matrix:\n",
      "[[67 84 73 85]\n",
      " [68 54 45 59]\n",
      " [13 85 82 64]\n",
      " [90 26 22 12]]\n",
      "The diagonal elements of the matrix:  [67 54 82 12]\n"
     ]
    }
   ],
   "source": [
    "import numpy as np\n",
    "matrix=np.random.randint(11,99,size=(4,4))\n",
    "print(\"4x4 Random Integer Matrix:\")\n",
    "print(matrix)\n",
    "diagonal=np.diag(matrix)\n",
    "print(\"The diagonal elements of the matrix: \", diagonal)"
   ]
  },
  {
   "cell_type": "markdown",
   "id": "e56d88ac",
   "metadata": {},
   "source": [
    "Simulate 1000 Coin Flips Using NumPy"
   ]
  },
  {
   "cell_type": "code",
   "execution_count": 10,
   "id": "a008d7d3",
   "metadata": {},
   "outputs": [
    {
     "name": "stdout",
     "output_type": "stream",
     "text": [
      "Total head counts:503\n",
      "Total tail count:497\n"
     ]
    }
   ],
   "source": [
    "import numpy as np\n",
    "# 1 for heads and 0 for tails\n",
    "\n",
    "coin_flips=np.random.choice([0,1],size=1000)\n",
    "head_count=np.sum(coin_flips)\n",
    "tail_count=1000-head_count\n",
    "print(f\"Total head counts:{head_count}\")\n",
    "print(f\"Total tail count:{tail_count}\")"
   ]
  },
  {
   "cell_type": "code",
   "execution_count": 12,
   "id": "6ea482ce",
   "metadata": {},
   "outputs": [],
   "source": [
    "import pandas as pd\n"
   ]
  }
 ],
 "metadata": {
  "kernelspec": {
   "display_name": "base",
   "language": "python",
   "name": "python3"
  },
  "language_info": {
   "codemirror_mode": {
    "name": "ipython",
    "version": 3
   },
   "file_extension": ".py",
   "mimetype": "text/x-python",
   "name": "python",
   "nbconvert_exporter": "python",
   "pygments_lexer": "ipython3",
   "version": "3.13.4"
  }
 },
 "nbformat": 4,
 "nbformat_minor": 5
}
