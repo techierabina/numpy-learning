{
 "cells": [
  {
   "cell_type": "code",
   "execution_count": null,
   "id": "0e997872",
   "metadata": {},
   "outputs": [],
   "source": [
    "#creating array using numpy\n",
    "#create 1D array\n",
    "\n",
    "import numpy as np\n",
    "arra1=np.array([1,2,3,4,5,6])\n",
    "print(arra1)\n",
    "print(type(arra1))\n",
    "print(np.shape(arra1))"
   ]
  },
  {
   "cell_type": "code",
   "execution_count": 7,
   "id": "f0c29b8d",
   "metadata": {},
   "outputs": [
    {
     "name": "stdout",
     "output_type": "stream",
     "text": [
      "<class 'numpy.ndarray'>\n",
      "(2, 3)\n"
     ]
    }
   ],
   "source": [
    "#creating 2D array\n",
    "import numpy as np\n",
    "arra2=np.array([[1,2,3],[2,4,5]])\n",
    "print(type(arra2))\n",
    "print(np.shape(arra2))"
   ]
  },
  {
   "cell_type": "code",
   "execution_count": 12,
   "id": "be3fc134",
   "metadata": {},
   "outputs": [
    {
     "name": "stdout",
     "output_type": "stream",
     "text": [
      "[1, 2, 3, 4, 5, 6, 7, 8, 9, 10]\n"
     ]
    },
    {
     "data": {
      "text/plain": [
       "array([ 0,  3,  6,  9, 12, 15, 18])"
      ]
     },
     "execution_count": 12,
     "metadata": {},
     "output_type": "execute_result"
    }
   ],
   "source": [
    "lst=[x for x in range(1,11)]\n",
    "print(lst)\n",
    "import numpy as np\n",
    "np.arange(0,20,3)"
   ]
  },
  {
   "cell_type": "code",
   "execution_count": 15,
   "id": "2ee3cf96",
   "metadata": {},
   "outputs": [
    {
     "data": {
      "text/plain": [
       "array([1., 1.])"
      ]
     },
     "execution_count": 15,
     "metadata": {},
     "output_type": "execute_result"
    }
   ],
   "source": [
    "np.ones(2)"
   ]
  },
  {
   "cell_type": "code",
   "execution_count": 17,
   "id": "f30b5557",
   "metadata": {},
   "outputs": [
    {
     "data": {
      "text/plain": [
       "array([[1., 0., 0., 0.],\n",
       "       [0., 1., 0., 0.],\n",
       "       [0., 0., 1., 0.],\n",
       "       [0., 0., 0., 1.]])"
      ]
     },
     "execution_count": 17,
     "metadata": {},
     "output_type": "execute_result"
    }
   ],
   "source": [
    "#identity matrix\n",
    "\n",
    "np.eye(4)"
   ]
  },
  {
   "cell_type": "code",
   "execution_count": null,
   "id": "c125343d",
   "metadata": {},
   "outputs": [
    {
     "name": "stdout",
     "output_type": "stream",
     "text": [
      "Array:\n",
      " [[ 22  33  44]\n",
      " [123  42  56]]\n",
      "Shape: (2, 3)\n",
      "NUmber of dimension: 2\n",
      "Number of elements: 6\n",
      "Data type: int64\n",
      "Item size(in byte): 8\n"
     ]
    }
   ],
   "source": [
    "#Atrributes of numpy array\n",
    "arr=np.array([[22,33,44],[123,42,56]])\n",
    "print(\"Array:\\n\",arr)\n",
    "print(\"Shape:\",arr.shape)\n",
    "print(\"NUmber of dimension:\",arr.ndim)\n",
    "print(\"Number of elements:\",arr.size)\n",
    "print(\"Data type:\",arr.dtype)\n",
    "print(\"Item size(in byte):\",arr.itemsize)"
   ]
  },
  {
   "cell_type": "code",
   "execution_count": 26,
   "id": "1df86ce7",
   "metadata": {},
   "outputs": [
    {
     "name": "stdout",
     "output_type": "stream",
     "text": [
      "Mean: 40.0\n",
      "Median: 35.0\n",
      "Standard Deviation: 24.8327740429189\n",
      "Variance: 616.6666666666666\n"
     ]
    }
   ],
   "source": [
    "# Statistical concepts in Numpy\n",
    "import numpy as np\n",
    "\n",
    "arr = np.array([[10, 20, 30],\n",
    "                [40, 50, 60],\n",
    "                [70, 60, 90],\n",
    "                [10, 20, 20]])\n",
    "\n",
    "mean = np.mean(arr)\n",
    "print(\"Mean:\", mean)\n",
    "\n",
    "median = np.median(arr)\n",
    "print(\"Median:\", median)\n",
    "\n",
    "st_dev = np.std(arr)\n",
    "print(\"Standard Deviation:\", st_dev)\n",
    "\n",
    "variance = np.var(arr)\n",
    "print(\"Variance:\", variance)\n"
   ]
  },
  {
   "cell_type": "code",
   "execution_count": 27,
   "id": "e6152352",
   "metadata": {},
   "outputs": [
    {
     "data": {
      "text/plain": [
       "array([False, False, False, False,  True,  True,  True, False,  True])"
      ]
     },
     "execution_count": 27,
     "metadata": {},
     "output_type": "execute_result"
    }
   ],
   "source": [
    "#logical operations\n",
    "# Statistical concepts in Numpy\n",
    "import numpy as np\n",
    "\n",
    "arr = np.array([1,2,3,5,6,7,46,3,44])\n",
    "arr>5\n"
   ]
  }
 ],
 "metadata": {
  "kernelspec": {
   "display_name": "base",
   "language": "python",
   "name": "python3"
  },
  "language_info": {
   "codemirror_mode": {
    "name": "ipython",
    "version": 3
   },
   "file_extension": ".py",
   "mimetype": "text/x-python",
   "name": "python",
   "nbconvert_exporter": "python",
   "pygments_lexer": "ipython3",
   "version": "3.13.4"
  }
 },
 "nbformat": 4,
 "nbformat_minor": 5
}
