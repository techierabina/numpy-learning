{
 "cells": [
  {
   "cell_type": "code",
   "execution_count": null,
   "id": "0e997872",
   "metadata": {},
   "outputs": [],
   "source": [
    "#creating array using numpy\n",
    "#create 1D array\n",
    "\n",
    "import numpy as np\n",
    "arra1=np.array([1,2,3,4,5,6])\n",
    "print(arra1)\n",
    "print(type(arra1))\n",
    "print(np.shape(arra1))"
   ]
  }
 ],
 "metadata": {
  "kernelspec": {
   "display_name": "base",
   "language": "python",
   "name": "python3"
  },
  "language_info": {
   "codemirror_mode": {
    "name": "ipython",
    "version": 3
   },
   "file_extension": ".py",
   "mimetype": "text/x-python",
   "name": "python",
   "nbconvert_exporter": "python",
   "pygments_lexer": "ipython3",
   "version": "3.13.4"
  }
 },
 "nbformat": 4,
 "nbformat_minor": 5
}
